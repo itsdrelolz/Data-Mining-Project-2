{
 "cells": [
  {
   "cell_type": "code",
   "execution_count": 108,
   "id": "1f2603cf",
   "metadata": {},
   "outputs": [],
   "source": [
    "import pandas as pd \n",
    "import numpy as np \n",
    "import seaborn as sns\n",
    "from matplotlib import pyplot as plt \n",
    "import string"
   ]
  },
  {
   "cell_type": "markdown",
   "id": "3424b851",
   "metadata": {},
   "source": [
    "# Identify the Problem\n",
    "## How can we use classification to sort messages as spam vs non-spam?\n",
    "## What features are most vital to classifying spam vs. non-spam?\n",
    "## How accurate will our predictions be?"
   ]
  },
  {
   "cell_type": "markdown",
   "id": "dd6cfb28",
   "metadata": {},
   "source": [
    "## Data found on kaggle\n",
    "## List string of message and informs whether it is spam or not spam"
   ]
  },
  {
   "cell_type": "code",
   "execution_count": 109,
   "id": "aa00db38",
   "metadata": {},
   "outputs": [
    {
     "data": {
      "text/plain": [
       "Unnamed: 0    0\n",
       "spamORham     0\n",
       "Message       0\n",
       "dtype: int64"
      ]
     },
     "execution_count": 109,
     "metadata": {},
     "output_type": "execute_result"
    }
   ],
   "source": [
    "df = pd.read_csv('spam.csv')\n",
    "\n",
    "\n",
    "\n",
    "df.isna().sum()\n",
    "\n"
   ]
  },
  {
   "cell_type": "markdown",
   "id": "7a955e8d",
   "metadata": {},
   "source": [
    "## We can see that the dataset contains no nulls\n",
    "\n",
    "## When looking at the head of the dataset, we can see the message column consists of strings. "
   ]
  },
  {
   "cell_type": "code",
   "execution_count": 110,
   "id": "bdb7cc3e",
   "metadata": {},
   "outputs": [
    {
     "data": {
      "text/html": [
       "<div>\n",
       "<style scoped>\n",
       "    .dataframe tbody tr th:only-of-type {\n",
       "        vertical-align: middle;\n",
       "    }\n",
       "\n",
       "    .dataframe tbody tr th {\n",
       "        vertical-align: top;\n",
       "    }\n",
       "\n",
       "    .dataframe thead th {\n",
       "        text-align: right;\n",
       "    }\n",
       "</style>\n",
       "<table border=\"1\" class=\"dataframe\">\n",
       "  <thead>\n",
       "    <tr style=\"text-align: right;\">\n",
       "      <th></th>\n",
       "      <th>Unnamed: 0</th>\n",
       "      <th>spamORham</th>\n",
       "      <th>Message</th>\n",
       "    </tr>\n",
       "  </thead>\n",
       "  <tbody>\n",
       "    <tr>\n",
       "      <th>0</th>\n",
       "      <td>0</td>\n",
       "      <td>ham</td>\n",
       "      <td>Go until jurong point, crazy.. Available only ...</td>\n",
       "    </tr>\n",
       "    <tr>\n",
       "      <th>1</th>\n",
       "      <td>1</td>\n",
       "      <td>ham</td>\n",
       "      <td>Ok lar... Joking wif u oni...</td>\n",
       "    </tr>\n",
       "    <tr>\n",
       "      <th>2</th>\n",
       "      <td>2</td>\n",
       "      <td>spam</td>\n",
       "      <td>Free entry in 2 a wkly comp to win FA Cup fina...</td>\n",
       "    </tr>\n",
       "    <tr>\n",
       "      <th>3</th>\n",
       "      <td>3</td>\n",
       "      <td>ham</td>\n",
       "      <td>U dun say so early hor... U c already then say...</td>\n",
       "    </tr>\n",
       "    <tr>\n",
       "      <th>4</th>\n",
       "      <td>4</td>\n",
       "      <td>ham</td>\n",
       "      <td>Nah I don't think he goes to usf, he lives aro...</td>\n",
       "    </tr>\n",
       "  </tbody>\n",
       "</table>\n",
       "</div>"
      ],
      "text/plain": [
       "   Unnamed: 0 spamORham                                            Message\n",
       "0           0       ham  Go until jurong point, crazy.. Available only ...\n",
       "1           1       ham                      Ok lar... Joking wif u oni...\n",
       "2           2      spam  Free entry in 2 a wkly comp to win FA Cup fina...\n",
       "3           3       ham  U dun say so early hor... U c already then say...\n",
       "4           4       ham  Nah I don't think he goes to usf, he lives aro..."
      ]
     },
     "execution_count": 110,
     "metadata": {},
     "output_type": "execute_result"
    }
   ],
   "source": [
    "df.head()"
   ]
  },
  {
   "cell_type": "code",
   "execution_count": 111,
   "id": "dc2fe8ff",
   "metadata": {},
   "outputs": [
    {
     "data": {
      "text/html": [
       "<div>\n",
       "<style scoped>\n",
       "    .dataframe tbody tr th:only-of-type {\n",
       "        vertical-align: middle;\n",
       "    }\n",
       "\n",
       "    .dataframe tbody tr th {\n",
       "        vertical-align: top;\n",
       "    }\n",
       "\n",
       "    .dataframe thead th {\n",
       "        text-align: right;\n",
       "    }\n",
       "</style>\n",
       "<table border=\"1\" class=\"dataframe\">\n",
       "  <thead>\n",
       "    <tr style=\"text-align: right;\">\n",
       "      <th></th>\n",
       "      <th>Unnamed: 0</th>\n",
       "      <th>spamORham</th>\n",
       "      <th>Message</th>\n",
       "    </tr>\n",
       "  </thead>\n",
       "  <tbody>\n",
       "    <tr>\n",
       "      <th>5567</th>\n",
       "      <td>5567</td>\n",
       "      <td>spam</td>\n",
       "      <td>This is the 2nd time we have tried 2 contact u...</td>\n",
       "    </tr>\n",
       "    <tr>\n",
       "      <th>5568</th>\n",
       "      <td>5568</td>\n",
       "      <td>ham</td>\n",
       "      <td>Will Ì_ b going to esplanade fr home?</td>\n",
       "    </tr>\n",
       "    <tr>\n",
       "      <th>5569</th>\n",
       "      <td>5569</td>\n",
       "      <td>ham</td>\n",
       "      <td>Pity, * was in mood for that. So...any other s...</td>\n",
       "    </tr>\n",
       "    <tr>\n",
       "      <th>5570</th>\n",
       "      <td>5570</td>\n",
       "      <td>ham</td>\n",
       "      <td>The guy did some bitching but I acted like i'd...</td>\n",
       "    </tr>\n",
       "    <tr>\n",
       "      <th>5571</th>\n",
       "      <td>5571</td>\n",
       "      <td>ham</td>\n",
       "      <td>Rofl. Its true to its name</td>\n",
       "    </tr>\n",
       "  </tbody>\n",
       "</table>\n",
       "</div>"
      ],
      "text/plain": [
       "      Unnamed: 0 spamORham                                            Message\n",
       "5567        5567      spam  This is the 2nd time we have tried 2 contact u...\n",
       "5568        5568       ham              Will Ì_ b going to esplanade fr home?\n",
       "5569        5569       ham  Pity, * was in mood for that. So...any other s...\n",
       "5570        5570       ham  The guy did some bitching but I acted like i'd...\n",
       "5571        5571       ham                         Rofl. Its true to its name"
      ]
     },
     "execution_count": 111,
     "metadata": {},
     "output_type": "execute_result"
    }
   ],
   "source": [
    "df.tail()"
   ]
  },
  {
   "cell_type": "markdown",
   "id": "8ddca283",
   "metadata": {},
   "source": [
    "## Preprocessing \n",
    "### Make all messages lowercase for consistency"
   ]
  },
  {
   "cell_type": "code",
   "execution_count": 112,
   "id": "c9bbc2cf",
   "metadata": {},
   "outputs": [
    {
     "data": {
      "text/html": [
       "<div>\n",
       "<style scoped>\n",
       "    .dataframe tbody tr th:only-of-type {\n",
       "        vertical-align: middle;\n",
       "    }\n",
       "\n",
       "    .dataframe tbody tr th {\n",
       "        vertical-align: top;\n",
       "    }\n",
       "\n",
       "    .dataframe thead th {\n",
       "        text-align: right;\n",
       "    }\n",
       "</style>\n",
       "<table border=\"1\" class=\"dataframe\">\n",
       "  <thead>\n",
       "    <tr style=\"text-align: right;\">\n",
       "      <th></th>\n",
       "      <th>Unnamed: 0</th>\n",
       "      <th>spamORham</th>\n",
       "      <th>Message</th>\n",
       "    </tr>\n",
       "  </thead>\n",
       "  <tbody>\n",
       "    <tr>\n",
       "      <th>0</th>\n",
       "      <td>0</td>\n",
       "      <td>ham</td>\n",
       "      <td>go until jurong point, crazy.. available only ...</td>\n",
       "    </tr>\n",
       "    <tr>\n",
       "      <th>1</th>\n",
       "      <td>1</td>\n",
       "      <td>ham</td>\n",
       "      <td>ok lar... joking wif u oni...</td>\n",
       "    </tr>\n",
       "    <tr>\n",
       "      <th>2</th>\n",
       "      <td>2</td>\n",
       "      <td>spam</td>\n",
       "      <td>free entry in 2 a wkly comp to win fa cup fina...</td>\n",
       "    </tr>\n",
       "    <tr>\n",
       "      <th>3</th>\n",
       "      <td>3</td>\n",
       "      <td>ham</td>\n",
       "      <td>u dun say so early hor... u c already then say...</td>\n",
       "    </tr>\n",
       "    <tr>\n",
       "      <th>4</th>\n",
       "      <td>4</td>\n",
       "      <td>ham</td>\n",
       "      <td>nah i don't think he goes to usf, he lives aro...</td>\n",
       "    </tr>\n",
       "    <tr>\n",
       "      <th>5</th>\n",
       "      <td>5</td>\n",
       "      <td>spam</td>\n",
       "      <td>freemsg hey there darling it's been 3 week's n...</td>\n",
       "    </tr>\n",
       "    <tr>\n",
       "      <th>6</th>\n",
       "      <td>6</td>\n",
       "      <td>ham</td>\n",
       "      <td>even my brother is not like to speak with me. ...</td>\n",
       "    </tr>\n",
       "    <tr>\n",
       "      <th>7</th>\n",
       "      <td>7</td>\n",
       "      <td>ham</td>\n",
       "      <td>as per your request 'melle melle (oru minnamin...</td>\n",
       "    </tr>\n",
       "    <tr>\n",
       "      <th>8</th>\n",
       "      <td>8</td>\n",
       "      <td>spam</td>\n",
       "      <td>winner!! as a valued network customer you have...</td>\n",
       "    </tr>\n",
       "    <tr>\n",
       "      <th>9</th>\n",
       "      <td>9</td>\n",
       "      <td>spam</td>\n",
       "      <td>had your mobile 11 months or more? u r entitle...</td>\n",
       "    </tr>\n",
       "  </tbody>\n",
       "</table>\n",
       "</div>"
      ],
      "text/plain": [
       "   Unnamed: 0 spamORham                                            Message\n",
       "0           0       ham  go until jurong point, crazy.. available only ...\n",
       "1           1       ham                      ok lar... joking wif u oni...\n",
       "2           2      spam  free entry in 2 a wkly comp to win fa cup fina...\n",
       "3           3       ham  u dun say so early hor... u c already then say...\n",
       "4           4       ham  nah i don't think he goes to usf, he lives aro...\n",
       "5           5      spam  freemsg hey there darling it's been 3 week's n...\n",
       "6           6       ham  even my brother is not like to speak with me. ...\n",
       "7           7       ham  as per your request 'melle melle (oru minnamin...\n",
       "8           8      spam  winner!! as a valued network customer you have...\n",
       "9           9      spam  had your mobile 11 months or more? u r entitle..."
      ]
     },
     "execution_count": 112,
     "metadata": {},
     "output_type": "execute_result"
    }
   ],
   "source": [
    "df['Message'] = df['Message'].str.lower()\n",
    "df.head(10)"
   ]
  },
  {
   "cell_type": "markdown",
   "id": "a4cc3b57",
   "metadata": {},
   "source": [
    "## Data Understanding/Visualization\n",
    "### Use methods to try to further understand and visualize the data. Make sure to remember your initial problems/questions when completing this step.\n",
    "### While exploring, does anything else stand out to you (perhaps any surprising insights?)"
   ]
  },
  {
   "cell_type": "code",
   "execution_count": 113,
   "id": "af8968f7",
   "metadata": {},
   "outputs": [
    {
     "data": {
      "image/png": "[encoded data removed]",
      "text/plain": [
       "<Figure size 640x480 with 1 Axes>"
      ]
     },
     "metadata": {},
     "output_type": "display_data"
    }
   ],
   "source": [
    "df['spamORham'].value_counts()\n",
    "\n",
    "# quality df \n",
    "quality_counts = df['spamORham'].value_counts()\n",
    "\n",
    "\n",
    "bars = plt.bar(quality_counts.index, quality_counts)\n",
    "\n",
    "plt.xlabel('spamORham')\n",
    "plt.ylabel('Count')\n",
    "plt.title('Bar Chart of Spam vs Non-Spam')\n",
    "\n",
    "for bar in bars:\n",
    "    yval = bar.get_height()\n",
    "    plt.text(bar.get_x() + bar.get_width() / 2, yval, round(yval, 2), ha='center', va='bottom')\n"
   ]
  },
  {
   "cell_type": "markdown",
   "id": "4e537833",
   "metadata": {},
   "source": [
    "## We can see that the messages are mostly non-spam (86.6% non-spam vs 13.4% spam)"
   ]
  },
  {
   "cell_type": "code",
   "execution_count": 114,
   "id": "b9c39e41",
   "metadata": {},
   "outputs": [
    {
     "data": {
      "image/png": "[encoded data removed]",
      "text/plain": [
       "<Figure size 1000x600 with 1 Axes>"
      ]
     },
     "metadata": {},
     "output_type": "display_data"
    }
   ],
   "source": [
    "text_lengths = df['Message'].apply(len)\n",
    "\n",
    "\n",
    "plt.figure(figsize=(10, 6))\n",
    "sns.histplot(text_lengths, bins=50, kde=True, color='skyblue')\n",
    "plt.title('Distribution of Text Length')\n",
    "plt.xlabel('Text Length')\n",
    "plt.ylabel('Frequency')\n",
    "plt.show()\n"
   ]
  },
  {
   "cell_type": "markdown",
   "id": "82dc2f1d",
   "metadata": {},
   "source": [
    "### "
   ]
  },
  {
   "cell_type": "markdown",
   "id": "7632a109",
   "metadata": {},
   "source": [
    "#                             ***          Top 10 most used words ***\n",
    "## This will help us understand what words may commonly be used in spam messages. It's also important to note that many of these words are also just the most common words in the english language.\n"
   ]
  },
  {
   "cell_type": "code",
   "execution_count": 126,
   "id": "23eab0a8",
   "metadata": {},
   "outputs": [],
   "source": [
    "from sklearn.feature_extraction.text import CountVectorizer\n",
    "from nltk.corpus import stopwords\n"
   ]
  },
  {
   "cell_type": "code",
   "execution_count": 127,
   "id": "4a43b967",
   "metadata": {},
   "outputs": [
    {
     "name": "stdout",
     "output_type": "stream",
     "text": [
      "Top 10 Most Frequent Words:\n",
      "u: 1119\n",
      "call: 576\n",
      "2: 478\n",
      "im: 462\n",
      "get: 386\n",
      "ur: 384\n",
      "4: 287\n",
      "dont: 279\n",
      "go: 278\n",
      "ok: 277\n"
     ]
    }
   ],
   "source": [
    "words = [word.lower() for message in df['Message'] for word in word_tokenize(message)]\n",
    "word_counts = Counter(words)\n",
    "top_10_words = word_counts.most_common(10)\n",
    "print('Top 10 Most Frequent Words:')\n",
    "for word, frequency in top_10_words:\n",
    "    print(f'{word}: {frequency}')"
   ]
  },
  {
   "cell_type": "markdown",
   "id": "3a827826",
   "metadata": {},
   "source": [
    "### Common words such as \"a\", \"and\", and \"from\" frequently occur in documents. As a result, many of these words are removed from the data in order to \"reduce noise\". We do this here in order for the model to focus on meaningful terms that are more indicative of spam or non-spam messages. "
   ]
  },
  {
   "cell_type": "code",
   "execution_count": 138,
   "id": "725d55fd",
   "metadata": {},
   "outputs": [
    {
     "data": {
      "text/html": [
       "<div>\n",
       "<style scoped>\n",
       "    .dataframe tbody tr th:only-of-type {\n",
       "        vertical-align: middle;\n",
       "    }\n",
       "\n",
       "    .dataframe tbody tr th {\n",
       "        vertical-align: top;\n",
       "    }\n",
       "\n",
       "    .dataframe thead th {\n",
       "        text-align: right;\n",
       "    }\n",
       "</style>\n",
       "<table border=\"1\" class=\"dataframe\">\n",
       "  <thead>\n",
       "    <tr style=\"text-align: right;\">\n",
       "      <th></th>\n",
       "      <th>Unnamed: 0</th>\n",
       "      <th>spamORham</th>\n",
       "      <th>Message</th>\n",
       "    </tr>\n",
       "  </thead>\n",
       "  <tbody>\n",
       "    <tr>\n",
       "      <th>0</th>\n",
       "      <td>0</td>\n",
       "      <td>ham</td>\n",
       "      <td>go jurong point crazy available bugis n great ...</td>\n",
       "    </tr>\n",
       "    <tr>\n",
       "      <th>1</th>\n",
       "      <td>1</td>\n",
       "      <td>ham</td>\n",
       "      <td>ok lar joking wif u oni</td>\n",
       "    </tr>\n",
       "    <tr>\n",
       "      <th>2</th>\n",
       "      <td>2</td>\n",
       "      <td>spam</td>\n",
       "      <td>free entry 2 wkly comp win fa cup final tkts 2...</td>\n",
       "    </tr>\n",
       "    <tr>\n",
       "      <th>3</th>\n",
       "      <td>3</td>\n",
       "      <td>ham</td>\n",
       "      <td>u dun say early hor u c already say</td>\n",
       "    </tr>\n",
       "    <tr>\n",
       "      <th>4</th>\n",
       "      <td>4</td>\n",
       "      <td>ham</td>\n",
       "      <td>nah dont think goes usf lives around though</td>\n",
       "    </tr>\n",
       "  </tbody>\n",
       "</table>\n",
       "</div>"
      ],
      "text/plain": [
       "   Unnamed: 0 spamORham                                            Message\n",
       "0           0       ham  go jurong point crazy available bugis n great ...\n",
       "1           1       ham                            ok lar joking wif u oni\n",
       "2           2      spam  free entry 2 wkly comp win fa cup final tkts 2...\n",
       "3           3       ham                u dun say early hor u c already say\n",
       "4           4       ham        nah dont think goes usf lives around though"
      ]
     },
     "execution_count": 138,
     "metadata": {},
     "output_type": "execute_result"
    }
   ],
   "source": [
    "def preprocess_message(message):\n",
    "    message = \"\".join([char for char in message if char not in string.punctuation])  \n",
    "   \n",
    "    message = \" \".join([word for word in message.split() if word not in stop_words])  \n",
    "    return message\n",
    "\n",
    "df['Message'] = df['Message'].apply(preprocess_message)\n",
    "df.head()"
   ]
  },
  {
   "cell_type": "markdown",
   "id": "610f9dfa",
   "metadata": {},
   "source": [
    "## *** Our text length after removing stop-words ***"
   ]
  },
  {
   "cell_type": "code",
   "execution_count": 147,
   "id": "c1d1d6e8",
   "metadata": {},
   "outputs": [
    {
     "data": {
      "image/png": "[encoded data removed]",
      "text/plain": [
       "<Figure size 1000x600 with 1 Axes>"
      ]
     },
     "metadata": {},
     "output_type": "display_data"
    }
   ],
   "source": [
    "text_lengths = df['Message'].apply(len)\n",
    "\n",
    "\n",
    "plt.figure(figsize=(10, 6))\n",
    "sns.histplot(text_lengths, bins=50, kde=True, color='skyblue')\n",
    "plt.title('Distribution of Text Length')\n",
    "plt.xlabel('Text Length')\n",
    "plt.ylabel('Frequency')\n",
    "plt.show()\n"
   ]
  },
  {
   "cell_type": "markdown",
   "id": "b914bda7",
   "metadata": {},
   "source": [
    "## Modeling\n",
    "### What model(s) do you use to try to solve your problem? Why do you choose those model(s)?\n",
    "### Briefly explain each algorithm used (what is it, how does it work, pros/cons, etc.)."
   ]
  },
  {
   "cell_type": "code",
   "execution_count": 129,
   "id": "7441798b",
   "metadata": {},
   "outputs": [],
   "source": [
    "from sklearn.model_selection import train_test_split\n",
    "from sklearn.naive_bayes import MultinomialNB\n",
    "from sklearn.svm import SVC\n",
    "from sklearn.metrics import confusion_matrix, accuracy_score, precision_score, recall_score, f1_score"
   ]
  },
  {
   "cell_type": "code",
   "execution_count": 130,
   "id": "80af7f97",
   "metadata": {},
   "outputs": [],
   "source": [
    "X_train, X_test, y_train, y_test = train_test_split(df['Message'], df['spamORham'], test_size=0.2) #training data"
   ]
  },
  {
   "cell_type": "markdown",
   "id": "6b7e4705",
   "metadata": {},
   "source": [
    "## Using Multinomial Naive Bayes for classification model"
   ]
  },
  {
   "cell_type": "code",
   "execution_count": 139,
   "id": "09436c76",
   "metadata": {},
   "outputs": [],
   "source": [
    "vectorizer = CountVectorizer()\n",
    "X_train_features = vectorizer.fit_transform(X_train)  \n",
    "X_test_features = vectorizer.transform(X_test)       "
   ]
  },
  {
   "cell_type": "code",
   "execution_count": 140,
   "id": "f220a482",
   "metadata": {},
   "outputs": [],
   "source": [
    "mnb_model = MultinomialNB()\n",
    "mnb_model.fit(X_train_features, y_train)\n",
    "y_pred_mnb = mnb_model.predict(X_test_features)"
   ]
  },
  {
   "cell_type": "code",
   "execution_count": 141,
   "id": "ade19d64",
   "metadata": {},
   "outputs": [
    {
     "name": "stdout",
     "output_type": "stream",
     "text": [
      "**Multinomial Naive Bayes Results:**\n",
      "Accuracy: 0.9811659192825112\n",
      "Precision: 0.9605263157894737\n",
      "Recall: 0.906832298136646\n",
      "F1-score: 0.9329073482428115\n"
     ]
    }
   ],
   "source": [
    "accuracy_mnb = accuracy_score(y_test, y_pred_mnb)\n",
    "precision_mnb = precision_score(y_test, y_pred_mnb, pos_label='spam')\n",
    "recall_mnb = recall_score(y_test, y_pred_mnb, pos_label='spam')\n",
    "f1_mnb = f1_score(y_test, y_pred_mnb, pos_label='spam')\n",
    "\n",
    "print(\"**Multinomial Naive Bayes Results:**\")\n",
    "print(\"Accuracy:\", accuracy_mnb)\n",
    "print(\"Precision:\", precision_mnb)\n",
    "print(\"Recall:\", recall_mnb)\n",
    "print(\"F1-score:\", f1_mnb)"
   ]
  },
  {
   "cell_type": "code",
   "execution_count": 142,
   "id": "620754e6",
   "metadata": {},
   "outputs": [
    {
     "data": {
      "image/png": "[encoded data removed]",
      "text/plain": [
       "<Figure size 640x480 with 2 Axes>"
      ]
     },
     "metadata": {},
     "output_type": "display_data"
    }
   ],
   "source": [
    "mnb_cm = confusion_matrix(y_test, y_pred_mnb)\n",
    "sns.heatmap(mnb_cm, annot=True, fmt='d', cmap='Blues')\n",
    "# Add title\n",
    "plt.title('Multinomial NB Confusion Matrix')\n",
    "\n",
    "# Show the plot\n",
    "plt.show()"
   ]
  },
  {
   "cell_type": "markdown",
   "id": "fe13552d",
   "metadata": {},
   "source": [
    "## Using Support Vector Machine for seperate model"
   ]
  },
  {
   "cell_type": "code",
   "execution_count": null,
   "id": "d898e9cf",
   "metadata": {},
   "outputs": [],
   "source": [
    "svm_clf = SVC()\n",
    "svm_clf.fit(X_train_features, y_train)\n",
    "y_pred_svm = svm_clf.predict(X_test_features)"
   ]
  },
  {
   "cell_type": "code",
   "execution_count": 146,
   "id": "878adfac",
   "metadata": {},
   "outputs": [
    {
     "name": "stdout",
     "output_type": "stream",
     "text": [
      "**Multinomial Naive Bayes Results:**\n",
      "Accuracy: 0.9757847533632287\n",
      "Precision: 1.0\n",
      "Recall: 0.8322981366459627\n",
      "F1-score: 0.9084745762711864\n"
     ]
    }
   ],
   "source": [
    "accuracy_svm = accuracy_score(y_test, y_pred_svm)\n",
    "precision_svm = precision_score(y_test, y_pred_svm, pos_label='spam')\n",
    "recall_svm = recall_score(y_test, y_pred_svm, pos_label='spam')\n",
    "f1_svm = f1_score(y_test, y_pred_svm, pos_label='spam')\n",
    "\n",
    "print(\"**Multinomial Naive Bayes Results:**\")\n",
    "print(\"Accuracy:\", accuracy_svm)\n",
    "print(\"Precision:\", precision_svm)\n",
    "print(\"Recall:\", recall_svm)\n",
    "print(\"F1-score:\", f1_svm)"
   ]
  },
  {
   "cell_type": "code",
   "execution_count": 145,
   "id": "6e5cbba0",
   "metadata": {},
   "outputs": [
    {
     "data": {
      "image/png": "[encoded data removed]",
      "text/plain": [
       "<Figure size 640x480 with 2 Axes>"
      ]
     },
     "metadata": {},
     "output_type": "display_data"
    }
   ],
   "source": [
    "svm_cm = confusion_matrix(y_test, y_pred_svm)\n",
    "sns.heatmap(svm_cm, annot=True, fmt='d', cmap='Reds')  \n",
    "\n",
    "\n",
    "plt.title('SVM Confusion Matrix')\n",
    "\n",
    "plt.show()"
   ]
  },
  {
   "cell_type": "markdown",
   "id": "41359370",
   "metadata": {},
   "source": [
    "## Evaluation\n",
    "### How well does your model(s) perform? What evaluation metrics do you use and why?"
   ]
  },
  {
   "cell_type": "markdown",
   "id": "7a04367b",
   "metadata": {},
   "source": [
    "# Both model perform well\n",
    "## The multinomial naive Bayes model has an accuracy of around 98% \n",
    "## The Support Vector Machine model has an accuracu of around 97% \n"
   ]
  },
  {
   "cell_type": "markdown",
   "id": "9e6792e6",
   "metadata": {},
   "source": [
    "### Both models do seem to have a harder time evalutating negatives. Both the SVM and MNB models have a majority of their incorrect predictions as false negatives. "
   ]
  }
 ],
 "metadata": {
  "kernelspec": {
   "display_name": "Python 3 (ipykernel)",
   "language": "python",
   "name": "python3"
  },
  "language_info": {
   "codemirror_mode": {
    "name": "ipython",
    "version": 3
   },
   "file_extension": ".py",
   "mimetype": "text/x-python",
   "name": "python",
   "nbconvert_exporter": "python",
   "pygments_lexer": "ipython3",
   "version": "3.11.5"
  }
 },
 "nbformat": 4,
 "nbformat_minor": 5
}
